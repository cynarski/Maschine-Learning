{
 "cells": [
  {
   "cell_type": "markdown",
   "source": [
    "## Lab 1\n",
    "# Podstawy pythona"
   ],
   "metadata": {
    "collapsed": false
   },
   "id": "bae1c74527bd0fa3"
  },
  {
   "cell_type": "markdown",
   "source": [
    "#### Zadanie 1\n",
    "Proszę wyświetlić dane i zapoznać się z posczególnymi informacjami."
   ],
   "metadata": {
    "collapsed": false
   },
   "id": "836f0564cd4253da"
  },
  {
   "cell_type": "code",
   "execution_count": 62,
   "id": "initial_id",
   "metadata": {
    "collapsed": true,
    "ExecuteTime": {
     "end_time": "2024-02-29T18:37:31.533424600Z",
     "start_time": "2024-02-29T18:37:31.427424400Z"
    }
   },
   "outputs": [],
   "source": [
    "import numpy as np\n",
    "import pandas as pd\n",
    "import matplotlib.pyplot as plt\n",
    "from sklearn.datasets import load_iris"
   ]
  },
  {
   "cell_type": "code",
   "execution_count": 63,
   "outputs": [
    {
     "data": {
      "text/plain": "     sepal length (cm)  sepal width (cm)  petal length (cm)  petal width (cm)  \\\n0                  5.1               3.5                1.4               0.2   \n1                  4.9               3.0                1.4               0.2   \n2                  4.7               3.2                1.3               0.2   \n3                  4.6               3.1                1.5               0.2   \n4                  5.0               3.6                1.4               0.2   \n..                 ...               ...                ...               ...   \n145                6.7               3.0                5.2               2.3   \n146                6.3               2.5                5.0               1.9   \n147                6.5               3.0                5.2               2.0   \n148                6.2               3.4                5.4               2.3   \n149                5.9               3.0                5.1               1.8   \n\n     target  \n0       0.0  \n1       0.0  \n2       0.0  \n3       0.0  \n4       0.0  \n..      ...  \n145     2.0  \n146     2.0  \n147     2.0  \n148     2.0  \n149     2.0  \n\n[150 rows x 5 columns]",
      "text/html": "<div>\n<style scoped>\n    .dataframe tbody tr th:only-of-type {\n        vertical-align: middle;\n    }\n\n    .dataframe tbody tr th {\n        vertical-align: top;\n    }\n\n    .dataframe thead th {\n        text-align: right;\n    }\n</style>\n<table border=\"1\" class=\"dataframe\">\n  <thead>\n    <tr style=\"text-align: right;\">\n      <th></th>\n      <th>sepal length (cm)</th>\n      <th>sepal width (cm)</th>\n      <th>petal length (cm)</th>\n      <th>petal width (cm)</th>\n      <th>target</th>\n    </tr>\n  </thead>\n  <tbody>\n    <tr>\n      <th>0</th>\n      <td>5.1</td>\n      <td>3.5</td>\n      <td>1.4</td>\n      <td>0.2</td>\n      <td>0.0</td>\n    </tr>\n    <tr>\n      <th>1</th>\n      <td>4.9</td>\n      <td>3.0</td>\n      <td>1.4</td>\n      <td>0.2</td>\n      <td>0.0</td>\n    </tr>\n    <tr>\n      <th>2</th>\n      <td>4.7</td>\n      <td>3.2</td>\n      <td>1.3</td>\n      <td>0.2</td>\n      <td>0.0</td>\n    </tr>\n    <tr>\n      <th>3</th>\n      <td>4.6</td>\n      <td>3.1</td>\n      <td>1.5</td>\n      <td>0.2</td>\n      <td>0.0</td>\n    </tr>\n    <tr>\n      <th>4</th>\n      <td>5.0</td>\n      <td>3.6</td>\n      <td>1.4</td>\n      <td>0.2</td>\n      <td>0.0</td>\n    </tr>\n    <tr>\n      <th>...</th>\n      <td>...</td>\n      <td>...</td>\n      <td>...</td>\n      <td>...</td>\n      <td>...</td>\n    </tr>\n    <tr>\n      <th>145</th>\n      <td>6.7</td>\n      <td>3.0</td>\n      <td>5.2</td>\n      <td>2.3</td>\n      <td>2.0</td>\n    </tr>\n    <tr>\n      <th>146</th>\n      <td>6.3</td>\n      <td>2.5</td>\n      <td>5.0</td>\n      <td>1.9</td>\n      <td>2.0</td>\n    </tr>\n    <tr>\n      <th>147</th>\n      <td>6.5</td>\n      <td>3.0</td>\n      <td>5.2</td>\n      <td>2.0</td>\n      <td>2.0</td>\n    </tr>\n    <tr>\n      <th>148</th>\n      <td>6.2</td>\n      <td>3.4</td>\n      <td>5.4</td>\n      <td>2.3</td>\n      <td>2.0</td>\n    </tr>\n    <tr>\n      <th>149</th>\n      <td>5.9</td>\n      <td>3.0</td>\n      <td>5.1</td>\n      <td>1.8</td>\n      <td>2.0</td>\n    </tr>\n  </tbody>\n</table>\n<p>150 rows × 5 columns</p>\n</div>"
     },
     "execution_count": 63,
     "metadata": {},
     "output_type": "execute_result"
    }
   ],
   "source": [
    "irisRaw = load_iris()\n",
    "iris = pd.DataFrame(data= np.c_[irisRaw['data'], irisRaw['target']],\n",
    "                     columns= irisRaw['feature_names'] + ['target'])\n",
    "\n",
    "\n",
    "iris"
   ],
   "metadata": {
    "collapsed": false,
    "ExecuteTime": {
     "end_time": "2024-02-29T18:37:31.557426Z",
     "start_time": "2024-02-29T18:37:31.535424700Z"
    }
   },
   "id": "4d44e5091866651f"
  },
  {
   "cell_type": "markdown",
   "source": [
    "### Zadanie 2\n",
    "Wyświetl liczbę wierszy oraz kolumn."
   ],
   "metadata": {
    "collapsed": false
   },
   "id": "37eaad5a7ca21f54"
  },
  {
   "cell_type": "code",
   "execution_count": 64,
   "outputs": [
    {
     "name": "stdout",
     "output_type": "stream",
     "text": [
      "Rows: 150\n",
      "Cols: 5\n"
     ]
    }
   ],
   "source": [
    "rows, cols = iris.shape\n",
    "\n",
    "print(f\"Rows: {rows}\")\n",
    "print(f\"Cols: {cols}\")"
   ],
   "metadata": {
    "collapsed": false,
    "ExecuteTime": {
     "end_time": "2024-02-29T18:37:31.616424500Z",
     "start_time": "2024-02-29T18:37:31.558423200Z"
    }
   },
   "id": "4bb23a2b93622fcc"
  },
  {
   "cell_type": "markdown",
   "source": [
    "### Zadanie 3\n",
    "\n",
    "Wyświetl podstawowe informacje dla poszczególnych kolumn. Skorzystaj z metod `describe`."
   ],
   "metadata": {
    "collapsed": false
   },
   "id": "8b7bf41d91d1308c"
  },
  {
   "cell_type": "code",
   "execution_count": 65,
   "outputs": [
    {
     "data": {
      "text/plain": "       sepal length (cm)  sepal width (cm)  petal length (cm)  \\\ncount         150.000000        150.000000         150.000000   \nmean            5.843333          3.057333           3.758000   \nstd             0.828066          0.435866           1.765298   \nmin             4.300000          2.000000           1.000000   \n25%             5.100000          2.800000           1.600000   \n50%             5.800000          3.000000           4.350000   \n75%             6.400000          3.300000           5.100000   \nmax             7.900000          4.400000           6.900000   \n\n       petal width (cm)      target  \ncount        150.000000  150.000000  \nmean           1.199333    1.000000  \nstd            0.762238    0.819232  \nmin            0.100000    0.000000  \n25%            0.300000    0.000000  \n50%            1.300000    1.000000  \n75%            1.800000    2.000000  \nmax            2.500000    2.000000  ",
      "text/html": "<div>\n<style scoped>\n    .dataframe tbody tr th:only-of-type {\n        vertical-align: middle;\n    }\n\n    .dataframe tbody tr th {\n        vertical-align: top;\n    }\n\n    .dataframe thead th {\n        text-align: right;\n    }\n</style>\n<table border=\"1\" class=\"dataframe\">\n  <thead>\n    <tr style=\"text-align: right;\">\n      <th></th>\n      <th>sepal length (cm)</th>\n      <th>sepal width (cm)</th>\n      <th>petal length (cm)</th>\n      <th>petal width (cm)</th>\n      <th>target</th>\n    </tr>\n  </thead>\n  <tbody>\n    <tr>\n      <th>count</th>\n      <td>150.000000</td>\n      <td>150.000000</td>\n      <td>150.000000</td>\n      <td>150.000000</td>\n      <td>150.000000</td>\n    </tr>\n    <tr>\n      <th>mean</th>\n      <td>5.843333</td>\n      <td>3.057333</td>\n      <td>3.758000</td>\n      <td>1.199333</td>\n      <td>1.000000</td>\n    </tr>\n    <tr>\n      <th>std</th>\n      <td>0.828066</td>\n      <td>0.435866</td>\n      <td>1.765298</td>\n      <td>0.762238</td>\n      <td>0.819232</td>\n    </tr>\n    <tr>\n      <th>min</th>\n      <td>4.300000</td>\n      <td>2.000000</td>\n      <td>1.000000</td>\n      <td>0.100000</td>\n      <td>0.000000</td>\n    </tr>\n    <tr>\n      <th>25%</th>\n      <td>5.100000</td>\n      <td>2.800000</td>\n      <td>1.600000</td>\n      <td>0.300000</td>\n      <td>0.000000</td>\n    </tr>\n    <tr>\n      <th>50%</th>\n      <td>5.800000</td>\n      <td>3.000000</td>\n      <td>4.350000</td>\n      <td>1.300000</td>\n      <td>1.000000</td>\n    </tr>\n    <tr>\n      <th>75%</th>\n      <td>6.400000</td>\n      <td>3.300000</td>\n      <td>5.100000</td>\n      <td>1.800000</td>\n      <td>2.000000</td>\n    </tr>\n    <tr>\n      <th>max</th>\n      <td>7.900000</td>\n      <td>4.400000</td>\n      <td>6.900000</td>\n      <td>2.500000</td>\n      <td>2.000000</td>\n    </tr>\n  </tbody>\n</table>\n</div>"
     },
     "execution_count": 65,
     "metadata": {},
     "output_type": "execute_result"
    }
   ],
   "source": [
    "stats = iris.describe()\n",
    "df_stats = pd.DataFrame(stats)\n",
    "df_stats"
   ],
   "metadata": {
    "collapsed": false,
    "ExecuteTime": {
     "end_time": "2024-02-29T18:37:31.671425100Z",
     "start_time": "2024-02-29T18:37:31.573426200Z"
    }
   },
   "id": "ebec50e7fa87576e"
  },
  {
   "cell_type": "markdown",
   "source": [
    "### Zadanie 4\n",
    "Zapoznaj się z działaniem metody `groupby`."
   ],
   "metadata": {
    "collapsed": false
   },
   "id": "22119f784bc1aa1f"
  },
  {
   "cell_type": "code",
   "execution_count": 66,
   "outputs": [
    {
     "data": {
      "text/plain": "        sepal length (cm)  sepal width (cm)  petal length (cm)  \\\ntarget                                                           \n0.0                 5.006             3.428              1.462   \n1.0                 5.936             2.770              4.260   \n2.0                 6.588             2.974              5.552   \n\n        petal width (cm)  \ntarget                    \n0.0                0.246  \n1.0                1.326  \n2.0                2.026  ",
      "text/html": "<div>\n<style scoped>\n    .dataframe tbody tr th:only-of-type {\n        vertical-align: middle;\n    }\n\n    .dataframe tbody tr th {\n        vertical-align: top;\n    }\n\n    .dataframe thead th {\n        text-align: right;\n    }\n</style>\n<table border=\"1\" class=\"dataframe\">\n  <thead>\n    <tr style=\"text-align: right;\">\n      <th></th>\n      <th>sepal length (cm)</th>\n      <th>sepal width (cm)</th>\n      <th>petal length (cm)</th>\n      <th>petal width (cm)</th>\n    </tr>\n    <tr>\n      <th>target</th>\n      <th></th>\n      <th></th>\n      <th></th>\n      <th></th>\n    </tr>\n  </thead>\n  <tbody>\n    <tr>\n      <th>0.0</th>\n      <td>5.006</td>\n      <td>3.428</td>\n      <td>1.462</td>\n      <td>0.246</td>\n    </tr>\n    <tr>\n      <th>1.0</th>\n      <td>5.936</td>\n      <td>2.770</td>\n      <td>4.260</td>\n      <td>1.326</td>\n    </tr>\n    <tr>\n      <th>2.0</th>\n      <td>6.588</td>\n      <td>2.974</td>\n      <td>5.552</td>\n      <td>2.026</td>\n    </tr>\n  </tbody>\n</table>\n</div>"
     },
     "execution_count": 66,
     "metadata": {},
     "output_type": "execute_result"
    }
   ],
   "source": [
    "group = iris.groupby(['target']).mean()\n",
    "df_group = pd.DataFrame(group)\n",
    "df_group"
   ],
   "metadata": {
    "collapsed": false,
    "ExecuteTime": {
     "end_time": "2024-02-29T18:37:31.672424900Z",
     "start_time": "2024-02-29T18:37:31.610423500Z"
    }
   },
   "id": "91e7c2fe8ac16978"
  },
  {
   "cell_type": "markdown",
   "source": [
    "### Zadanie 5\n",
    "Wykorzystując metodę `head` proszę wyświelić 5 pierwszych wierszy."
   ],
   "metadata": {
    "collapsed": false
   },
   "id": "2be70b75212b2c34"
  },
  {
   "cell_type": "code",
   "execution_count": 67,
   "outputs": [
    {
     "data": {
      "text/plain": "   sepal length (cm)  sepal width (cm)  petal length (cm)  petal width (cm)  \\\n0                5.1               3.5                1.4               0.2   \n1                4.9               3.0                1.4               0.2   \n2                4.7               3.2                1.3               0.2   \n3                4.6               3.1                1.5               0.2   \n4                5.0               3.6                1.4               0.2   \n\n   target  \n0     0.0  \n1     0.0  \n2     0.0  \n3     0.0  \n4     0.0  ",
      "text/html": "<div>\n<style scoped>\n    .dataframe tbody tr th:only-of-type {\n        vertical-align: middle;\n    }\n\n    .dataframe tbody tr th {\n        vertical-align: top;\n    }\n\n    .dataframe thead th {\n        text-align: right;\n    }\n</style>\n<table border=\"1\" class=\"dataframe\">\n  <thead>\n    <tr style=\"text-align: right;\">\n      <th></th>\n      <th>sepal length (cm)</th>\n      <th>sepal width (cm)</th>\n      <th>petal length (cm)</th>\n      <th>petal width (cm)</th>\n      <th>target</th>\n    </tr>\n  </thead>\n  <tbody>\n    <tr>\n      <th>0</th>\n      <td>5.1</td>\n      <td>3.5</td>\n      <td>1.4</td>\n      <td>0.2</td>\n      <td>0.0</td>\n    </tr>\n    <tr>\n      <th>1</th>\n      <td>4.9</td>\n      <td>3.0</td>\n      <td>1.4</td>\n      <td>0.2</td>\n      <td>0.0</td>\n    </tr>\n    <tr>\n      <th>2</th>\n      <td>4.7</td>\n      <td>3.2</td>\n      <td>1.3</td>\n      <td>0.2</td>\n      <td>0.0</td>\n    </tr>\n    <tr>\n      <th>3</th>\n      <td>4.6</td>\n      <td>3.1</td>\n      <td>1.5</td>\n      <td>0.2</td>\n      <td>0.0</td>\n    </tr>\n    <tr>\n      <th>4</th>\n      <td>5.0</td>\n      <td>3.6</td>\n      <td>1.4</td>\n      <td>0.2</td>\n      <td>0.0</td>\n    </tr>\n  </tbody>\n</table>\n</div>"
     },
     "execution_count": 67,
     "metadata": {},
     "output_type": "execute_result"
    }
   ],
   "source": [
    "iris.head(5)"
   ],
   "metadata": {
    "collapsed": false,
    "ExecuteTime": {
     "end_time": "2024-02-29T18:37:31.739810400Z",
     "start_time": "2024-02-29T18:37:31.620425400Z"
    }
   },
   "id": "752084aaad4d1291"
  },
  {
   "cell_type": "markdown",
   "source": [
    "### Zadanie 6\n",
    "Korzystając z dropna sprawdź, czy baza zawiera brakujące dane."
   ],
   "metadata": {
    "collapsed": false
   },
   "id": "7ac58c6ba4c22436"
  },
  {
   "cell_type": "code",
   "execution_count": 68,
   "outputs": [
    {
     "name": "stdout",
     "output_type": "stream",
     "text": [
      "0\n"
     ]
    }
   ],
   "source": [
    "data_length = len(iris)\n",
    "is_empty = iris.dropna()\n",
    "result = data_length - len(is_empty)\n",
    "print(result)"
   ],
   "metadata": {
    "collapsed": false,
    "ExecuteTime": {
     "end_time": "2024-02-29T18:37:31.769811600Z",
     "start_time": "2024-02-29T18:37:31.638424400Z"
    }
   },
   "id": "3cc648ef8d44fea"
  },
  {
   "cell_type": "markdown",
   "source": [
    "### Zadanie 7\n",
    "Korzystając z metody `sort_values` posortuj dane rosnąco względem drugiej kolumny."
   ],
   "metadata": {
    "collapsed": false
   },
   "id": "3a3a327bd808ccbb"
  },
  {
   "cell_type": "code",
   "execution_count": 69,
   "outputs": [
    {
     "data": {
      "text/plain": "     sepal length (cm)  sepal width (cm)  petal length (cm)  petal width (cm)  \\\n60                 5.0               2.0                3.5               1.0   \n62                 6.0               2.2                4.0               1.0   \n119                6.0               2.2                5.0               1.5   \n68                 6.2               2.2                4.5               1.5   \n41                 4.5               2.3                1.3               0.3   \n..                 ...               ...                ...               ...   \n16                 5.4               3.9                1.3               0.4   \n14                 5.8               4.0                1.2               0.2   \n32                 5.2               4.1                1.5               0.1   \n33                 5.5               4.2                1.4               0.2   \n15                 5.7               4.4                1.5               0.4   \n\n     target  \n60      1.0  \n62      1.0  \n119     2.0  \n68      1.0  \n41      0.0  \n..      ...  \n16      0.0  \n14      0.0  \n32      0.0  \n33      0.0  \n15      0.0  \n\n[150 rows x 5 columns]",
      "text/html": "<div>\n<style scoped>\n    .dataframe tbody tr th:only-of-type {\n        vertical-align: middle;\n    }\n\n    .dataframe tbody tr th {\n        vertical-align: top;\n    }\n\n    .dataframe thead th {\n        text-align: right;\n    }\n</style>\n<table border=\"1\" class=\"dataframe\">\n  <thead>\n    <tr style=\"text-align: right;\">\n      <th></th>\n      <th>sepal length (cm)</th>\n      <th>sepal width (cm)</th>\n      <th>petal length (cm)</th>\n      <th>petal width (cm)</th>\n      <th>target</th>\n    </tr>\n  </thead>\n  <tbody>\n    <tr>\n      <th>60</th>\n      <td>5.0</td>\n      <td>2.0</td>\n      <td>3.5</td>\n      <td>1.0</td>\n      <td>1.0</td>\n    </tr>\n    <tr>\n      <th>62</th>\n      <td>6.0</td>\n      <td>2.2</td>\n      <td>4.0</td>\n      <td>1.0</td>\n      <td>1.0</td>\n    </tr>\n    <tr>\n      <th>119</th>\n      <td>6.0</td>\n      <td>2.2</td>\n      <td>5.0</td>\n      <td>1.5</td>\n      <td>2.0</td>\n    </tr>\n    <tr>\n      <th>68</th>\n      <td>6.2</td>\n      <td>2.2</td>\n      <td>4.5</td>\n      <td>1.5</td>\n      <td>1.0</td>\n    </tr>\n    <tr>\n      <th>41</th>\n      <td>4.5</td>\n      <td>2.3</td>\n      <td>1.3</td>\n      <td>0.3</td>\n      <td>0.0</td>\n    </tr>\n    <tr>\n      <th>...</th>\n      <td>...</td>\n      <td>...</td>\n      <td>...</td>\n      <td>...</td>\n      <td>...</td>\n    </tr>\n    <tr>\n      <th>16</th>\n      <td>5.4</td>\n      <td>3.9</td>\n      <td>1.3</td>\n      <td>0.4</td>\n      <td>0.0</td>\n    </tr>\n    <tr>\n      <th>14</th>\n      <td>5.8</td>\n      <td>4.0</td>\n      <td>1.2</td>\n      <td>0.2</td>\n      <td>0.0</td>\n    </tr>\n    <tr>\n      <th>32</th>\n      <td>5.2</td>\n      <td>4.1</td>\n      <td>1.5</td>\n      <td>0.1</td>\n      <td>0.0</td>\n    </tr>\n    <tr>\n      <th>33</th>\n      <td>5.5</td>\n      <td>4.2</td>\n      <td>1.4</td>\n      <td>0.2</td>\n      <td>0.0</td>\n    </tr>\n    <tr>\n      <th>15</th>\n      <td>5.7</td>\n      <td>4.4</td>\n      <td>1.5</td>\n      <td>0.4</td>\n      <td>0.0</td>\n    </tr>\n  </tbody>\n</table>\n<p>150 rows × 5 columns</p>\n</div>"
     },
     "execution_count": 69,
     "metadata": {},
     "output_type": "execute_result"
    }
   ],
   "source": [
    "iris.sort_values(['sepal width (cm)'])"
   ],
   "metadata": {
    "collapsed": false,
    "ExecuteTime": {
     "end_time": "2024-02-29T18:37:31.771812800Z",
     "start_time": "2024-02-29T18:37:31.652421700Z"
    }
   },
   "id": "81e9941caebecfd"
  },
  {
   "cell_type": "markdown",
   "source": [
    "### Zadanie 8\n",
    "Wyznacz minimalną i maksymalną długość płatka (kolumna 3 - petal length). Podaj indeks tych wartości (min, idxmin)."
   ],
   "metadata": {
    "collapsed": false
   },
   "id": "b1ee1669ca5df5d1"
  },
  {
   "cell_type": "code",
   "execution_count": 70,
   "outputs": [
    {
     "name": "stdout",
     "output_type": "stream",
     "text": [
      "Minimum value 1.0, index 22\n",
      "Maximum value 6.9, index 118\n"
     ]
    }
   ],
   "source": [
    "min_petal_length = iris['petal length (cm)'].min()\n",
    "max_petal_length = iris['petal length (cm)'].max()\n",
    "index_min = iris['petal length (cm)'].idxmin()\n",
    "index_max = iris['petal length (cm)'].idxmax()\n",
    "\n",
    "print(f\"Minimum value {min_petal_length}, index {index_min}\")\n",
    "print(f\"Maximum value {max_petal_length}, index {index_max}\")"
   ],
   "metadata": {
    "collapsed": false,
    "ExecuteTime": {
     "end_time": "2024-02-29T18:37:31.830811300Z",
     "start_time": "2024-02-29T18:37:31.668426200Z"
    }
   },
   "id": "31678068fad8a191"
  },
  {
   "cell_type": "markdown",
   "source": [
    "### Zadanie 9 \n",
    "Oblicz odchylenie standardowe dla każdej kolumny (std)."
   ],
   "metadata": {
    "collapsed": false
   },
   "id": "bc5571c8a905e43a"
  },
  {
   "cell_type": "code",
   "execution_count": 71,
   "outputs": [
    {
     "data": {
      "text/plain": "sepal length (cm)    0.828066\nsepal width (cm)     0.435866\npetal length (cm)    1.765298\npetal width (cm)     0.762238\ntarget               0.819232\ndtype: float64"
     },
     "execution_count": 71,
     "metadata": {},
     "output_type": "execute_result"
    }
   ],
   "source": [
    "std = iris.std()\n",
    "std"
   ],
   "metadata": {
    "collapsed": false,
    "ExecuteTime": {
     "end_time": "2024-02-29T18:37:31.831845700Z",
     "start_time": "2024-02-29T18:37:31.682658900Z"
    }
   },
   "id": "74526c2430afd827"
  },
  {
   "cell_type": "markdown",
   "source": [
    "### Zadanie 10\n",
    "Wyodrębnij wiersze dla których długość kielicha kwiatów (sepal length) jest większa od średniej długości (cały zbiór)"
   ],
   "metadata": {
    "collapsed": false
   },
   "id": "dcffb12657eadc0a"
  },
  {
   "cell_type": "code",
   "execution_count": 72,
   "outputs": [
    {
     "data": {
      "text/plain": "     sepal length (cm)  sepal width (cm)  petal length (cm)  petal width (cm)  \\\n50                 7.0               3.2                4.7               1.4   \n51                 6.4               3.2                4.5               1.5   \n52                 6.9               3.1                4.9               1.5   \n54                 6.5               2.8                4.6               1.5   \n56                 6.3               3.3                4.7               1.6   \n..                 ...               ...                ...               ...   \n145                6.7               3.0                5.2               2.3   \n146                6.3               2.5                5.0               1.9   \n147                6.5               3.0                5.2               2.0   \n148                6.2               3.4                5.4               2.3   \n149                5.9               3.0                5.1               1.8   \n\n     target  \n50      1.0  \n51      1.0  \n52      1.0  \n54      1.0  \n56      1.0  \n..      ...  \n145     2.0  \n146     2.0  \n147     2.0  \n148     2.0  \n149     2.0  \n\n[70 rows x 5 columns]",
      "text/html": "<div>\n<style scoped>\n    .dataframe tbody tr th:only-of-type {\n        vertical-align: middle;\n    }\n\n    .dataframe tbody tr th {\n        vertical-align: top;\n    }\n\n    .dataframe thead th {\n        text-align: right;\n    }\n</style>\n<table border=\"1\" class=\"dataframe\">\n  <thead>\n    <tr style=\"text-align: right;\">\n      <th></th>\n      <th>sepal length (cm)</th>\n      <th>sepal width (cm)</th>\n      <th>petal length (cm)</th>\n      <th>petal width (cm)</th>\n      <th>target</th>\n    </tr>\n  </thead>\n  <tbody>\n    <tr>\n      <th>50</th>\n      <td>7.0</td>\n      <td>3.2</td>\n      <td>4.7</td>\n      <td>1.4</td>\n      <td>1.0</td>\n    </tr>\n    <tr>\n      <th>51</th>\n      <td>6.4</td>\n      <td>3.2</td>\n      <td>4.5</td>\n      <td>1.5</td>\n      <td>1.0</td>\n    </tr>\n    <tr>\n      <th>52</th>\n      <td>6.9</td>\n      <td>3.1</td>\n      <td>4.9</td>\n      <td>1.5</td>\n      <td>1.0</td>\n    </tr>\n    <tr>\n      <th>54</th>\n      <td>6.5</td>\n      <td>2.8</td>\n      <td>4.6</td>\n      <td>1.5</td>\n      <td>1.0</td>\n    </tr>\n    <tr>\n      <th>56</th>\n      <td>6.3</td>\n      <td>3.3</td>\n      <td>4.7</td>\n      <td>1.6</td>\n      <td>1.0</td>\n    </tr>\n    <tr>\n      <th>...</th>\n      <td>...</td>\n      <td>...</td>\n      <td>...</td>\n      <td>...</td>\n      <td>...</td>\n    </tr>\n    <tr>\n      <th>145</th>\n      <td>6.7</td>\n      <td>3.0</td>\n      <td>5.2</td>\n      <td>2.3</td>\n      <td>2.0</td>\n    </tr>\n    <tr>\n      <th>146</th>\n      <td>6.3</td>\n      <td>2.5</td>\n      <td>5.0</td>\n      <td>1.9</td>\n      <td>2.0</td>\n    </tr>\n    <tr>\n      <th>147</th>\n      <td>6.5</td>\n      <td>3.0</td>\n      <td>5.2</td>\n      <td>2.0</td>\n      <td>2.0</td>\n    </tr>\n    <tr>\n      <th>148</th>\n      <td>6.2</td>\n      <td>3.4</td>\n      <td>5.4</td>\n      <td>2.3</td>\n      <td>2.0</td>\n    </tr>\n    <tr>\n      <th>149</th>\n      <td>5.9</td>\n      <td>3.0</td>\n      <td>5.1</td>\n      <td>1.8</td>\n      <td>2.0</td>\n    </tr>\n  </tbody>\n</table>\n<p>70 rows × 5 columns</p>\n</div>"
     },
     "execution_count": 72,
     "metadata": {},
     "output_type": "execute_result"
    }
   ],
   "source": [
    "mean_sepal_length = iris['sepal length (cm)'].mean()\n",
    "rows_above_mean = iris[iris['sepal length (cm)'] > mean_sepal_length]\n",
    "\n",
    "rows_above_mean"
   ],
   "metadata": {
    "collapsed": false,
    "ExecuteTime": {
     "end_time": "2024-02-29T18:37:31.832810300Z",
     "start_time": "2024-02-29T18:37:31.697760200Z"
    }
   },
   "id": "efa8bd86bda33975"
  },
  {
   "cell_type": "markdown",
   "source": [
    "### Zadanie 11\n",
    "Wyświetl histogramy dla poszczególnych parametrów z uwzglednieniem przynależności do danej klasy"
   ],
   "metadata": {
    "collapsed": false
   },
   "id": "b8b065a608d55be"
  },
  {
   "cell_type": "code",
   "execution_count": 73,
   "outputs": [
    {
     "data": {
      "text/plain": "<Figure size 1200x1000 with 4 Axes>",
      "image/png": "[encoded data removed]"
     },
     "metadata": {},
     "output_type": "display_data"
    }
   ],
   "source": [
    "irisRaw = load_iris()\n",
    "iris2 = pd.DataFrame(data=np.c_[irisRaw['data'], irisRaw['target']],\n",
    "                     columns=irisRaw['feature_names'] + ['target'])\n",
    "iris2['species'] = iris2['target'].apply(lambda x: irisRaw['target_names'][int(x)])\n",
    "\n",
    "species_names = ['setosa', 'versicolor', 'virginica']\n",
    "colors = ['blue', 'orange', 'green']\n",
    "\n",
    "fig, axs = plt.subplots(2, 2, figsize=(12, 10))\n",
    "\n",
    "for i, name in enumerate(species_names):\n",
    "    subset = iris2[iris2['species'] == name]\n",
    "    axs[0, 0].hist(subset['sepal length (cm)'], color=colors[i], label=name, alpha=0.7)\n",
    "    axs[0, 1].hist(subset['sepal width (cm)'], color=colors[i], label=name, alpha=0.7)\n",
    "    axs[1, 0].hist(subset['petal length (cm)'], color=colors[i], label=name, alpha=0.7)\n",
    "    axs[1, 1].hist(subset['petal width (cm)'], color=colors[i], label=name, alpha=0.7)\n",
    "    \n",
    "    \n",
    "\n",
    "axs[0, 0].set_title('Sepal length')\n",
    "axs[0, 0].set_xlabel('Sepal length (cm)')\n",
    "axs[0, 0].set_ylabel('Count')\n",
    "axs[0, 0].legend()\n",
    "\n",
    "\n",
    "axs[0, 1].set_title('Sepal width')\n",
    "axs[0, 1].set_xlabel('Sepal width (cm)')\n",
    "axs[0, 1].set_ylabel('Count')\n",
    "axs[0, 1].legend()\n",
    "\n",
    "axs[1, 0].set_title('Petal length')\n",
    "axs[1, 0].set_xlabel('Petal length (cm)')\n",
    "axs[1, 0].set_ylabel('Count')\n",
    "axs[1, 0].legend()\n",
    "\n",
    "axs[1, 1].set_title('Petal width')\n",
    "axs[1, 1].set_xlabel('Petal width (cm)')\n",
    "axs[1, 1].set_ylabel('Count')\n",
    "axs[1, 1].legend()\n",
    "\n",
    "\n",
    "plt.show()\n",
    "\n",
    "\n"
   ],
   "metadata": {
    "collapsed": false,
    "ExecuteTime": {
     "end_time": "2024-02-29T18:37:32.403811700Z",
     "start_time": "2024-02-29T18:37:31.716810500Z"
    }
   },
   "id": "5ae0f8228bcbd94c"
  }
 ],
 "metadata": {
  "kernelspec": {
   "display_name": "Python 3",
   "language": "python",
   "name": "python3"
  },
  "language_info": {
   "codemirror_mode": {
    "name": "ipython",
    "version": 2
   },
   "file_extension": ".py",
   "mimetype": "text/x-python",
   "name": "python",
   "nbconvert_exporter": "python",
   "pygments_lexer": "ipython2",
   "version": "2.7.6"
  }
 },
 "nbformat": 4,
 "nbformat_minor": 5
}
